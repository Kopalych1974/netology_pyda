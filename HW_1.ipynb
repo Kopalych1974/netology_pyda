{
 "cells": [
  {
   "cell_type": "markdown",
   "metadata": {},
   "source": [
    "## ДЗ_1. Основы Python"
   ]
  },
  {
   "cell_type": "markdown",
   "metadata": {},
   "source": [
    "* Начинающий произносит число \"1\", и каждый следующий игрок прибавляет к предыдущему значению единицу. Когда число делится на три оно заменяется на fizz, если число делится на пять, то произносится buzz. Числа, делящиеся на три и пять одновременно заменяются на fizz buzz. Сделавший ошибку игрок исключается из игры."
   ]
  },
  {
   "cell_type": "code",
   "execution_count": 21,
   "metadata": {
    "scrolled": true
   },
   "outputs": [
    {
     "name": "stdout",
     "output_type": "stream",
     "text": [
      "Ваш ход! Введите число. 15\n",
      "FizzBuzz\n"
     ]
    }
   ],
   "source": [
    "number = int(input('Ваш ход! Введите число. '))\n",
    "if number % 3 == 0 and number % 5 == 0:\n",
    "    print('FizzBuzz')\n",
    "elif number % 3 == 0:\n",
    "    print('Fizz')\n",
    "elif number % 5 == 0:\n",
    "    print('Buzz')\n",
    "else:\n",
    "    print(number + 1)\n",
    "# использовал остаток от деления, если нет остатка значит условие равенства срабатывает. Необходимо исполнять команду"
   ]
  },
  {
   "cell_type": "markdown",
   "metadata": {},
   "source": [
    "* Датчик принимает сигнал, состоящий из 0 и 1. Известно, что сигнал имеет периодичность, не превышающей натурального числа n. Напишите код, который вычисляет периодичность сигнала. Считайте, что 3 < n < 1000, а общая длина сигнала значительно превышает n."
   ]
  },
  {
   "cell_type": "code",
   "execution_count": 1,
   "metadata": {},
   "outputs": [
    {
     "name": "stdout",
     "output_type": "stream",
     "text": [
      "Какая переодичность сигнала? Ограничение! Значение больше 3 и меньше 1000 4\n",
      "1011101110111011\n"
     ]
    }
   ],
   "source": [
    "element = 1011\n",
    "# определил значение установленного элемента\n",
    "period = int(input('Какая переодичность сигнала? Ограничение! Значение больше 3 и меньше 1000 '))\n",
    "# принимаю пользовательское значение и присваиваю числовой тип данных\n",
    "if period <= 3 or period >= 1000:\n",
    "    print('Не корректное значение!')\n",
    "# ввел ограничение на принимаемое значение\n",
    "else:\n",
    "    print(str(element) * period)    \n",
    "# перевожу значение элемента в тип строки, чтобы повторить количество раз из периода"
   ]
  },
  {
   "cell_type": "markdown",
   "metadata": {},
   "source": [
    "* Дано слово из латинских букв. Напишите скрипт, который выводит на экран букву из середины слова (если число букв нечетное). Если букв четное число, то на экран выводятся две буквы из середины."
   ]
  },
  {
   "cell_type": "code",
   "execution_count": 7,
   "metadata": {},
   "outputs": [
    {
     "name": "stdout",
     "output_type": "stream",
     "text": [
      "Какое Ваше слово? morning\n",
      "n\n"
     ]
    }
   ],
   "source": [
    "word = input('Какое Ваше слово? ')\n",
    "if len(word) % 2 == 0:\n",
    "    print(word[int(len(word) / 2) - 1] + word[int(len(word) / 2)])\n",
    "else:\n",
    "    print(word[int(len(word) / 2)])\n",
    "# если длинна слова четное значение, склеил два индекса в середине"
   ]
  },
  {
   "cell_type": "markdown",
   "metadata": {},
   "source": [
    "## ДЗ_2. Конструкции и коллекции"
   ]
  },
  {
   "cell_type": "code",
   "execution_count": null,
   "metadata": {},
   "outputs": [],
   "source": []
  },
  {
   "cell_type": "code",
   "execution_count": null,
   "metadata": {},
   "outputs": [],
   "source": []
  },
  {
   "cell_type": "code",
   "execution_count": null,
   "metadata": {},
   "outputs": [],
   "source": []
  },
  {
   "cell_type": "code",
   "execution_count": null,
   "metadata": {},
   "outputs": [],
   "source": []
  },
  {
   "cell_type": "code",
   "execution_count": null,
   "metadata": {},
   "outputs": [],
   "source": []
  },
  {
   "cell_type": "code",
   "execution_count": null,
   "metadata": {},
   "outputs": [],
   "source": []
  },
  {
   "cell_type": "code",
   "execution_count": null,
   "metadata": {},
   "outputs": [],
   "source": []
  }
 ],
 "metadata": {
  "kernelspec": {
   "display_name": "Python 3",
   "language": "python",
   "name": "python3"
  },
  "language_info": {
   "codemirror_mode": {
    "name": "ipython",
    "version": 3
   },
   "file_extension": ".py",
   "mimetype": "text/x-python",
   "name": "python",
   "nbconvert_exporter": "python",
   "pygments_lexer": "ipython3",
   "version": "3.7.3"
  }
 },
 "nbformat": 4,
 "nbformat_minor": 2
}
