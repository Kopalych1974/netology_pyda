{
 "cells": [
  {
   "cell_type": "markdown",
   "metadata": {},
   "source": [
    "## Домашняя работа №3"
   ]
  },
  {
   "cell_type": "markdown",
   "metadata": {},
   "source": [
    "* Задача №1"
   ]
  },
  {
   "cell_type": "code",
   "execution_count": 1,
   "metadata": {},
   "outputs": [],
   "source": [
    "stats = {\"facebook\": 55, \"yandex\": 120, \"vk\": 115, \"google\": 99, \"email\": 42, \"ok\": 98}"
   ]
  },
  {
   "cell_type": "code",
   "execution_count": 2,
   "metadata": {},
   "outputs": [
    {
     "data": {
      "text/plain": [
       "'yandex'"
      ]
     },
     "execution_count": 2,
     "metadata": {},
     "output_type": "execute_result"
    }
   ],
   "source": [
    "max(stats, key=stats.get)"
   ]
  },
  {
   "cell_type": "code",
   "execution_count": null,
   "metadata": {},
   "outputs": [],
   "source": []
  },
  {
   "cell_type": "markdown",
   "metadata": {},
   "source": [
    "* Задача №2"
   ]
  },
  {
   "cell_type": "code",
   "execution_count": 4,
   "metadata": {},
   "outputs": [],
   "source": [
    "descriptions = [\n",
    "    [\"браслет\", \"xiaomi\", \"mi\", \"band\", \"2.\", \"умный\", \"браслет\", \"xiaomi\", \"mi\", \"лидер\", \"в\", \"линейке\", \"xiaomi.\", \"фитнес\", \"браслет\", \"для\", \"android\", \"4.4,\", \"ios\", \"7,\", \"экран\", \"oled.\", \"лучший\", \"выбор\", \"xiaomi\"],\n",
    "    [\"браслет\", \"huawei\", \"honor\", \"band\", \"3.\", \"фитнес\", \"браслет\", \"влагозащищенный\", \"сенсорный\", \"экран\", \"android,\", \"ios\", \"мониторинг\", \"сна\"],\n",
    "    [\"браслет\", \"samsung\", \"gear\", \"fit2\", \"pro.\", \"влагозащищенный\", \"сенсорный\", \"amoled-экран\", \"мониторинг\", \"сна,\", \"калорий,\", \"новинка\", \"samsung\"],\n",
    "]"
   ]
  },
  {
   "cell_type": "code",
   "execution_count": 9,
   "metadata": {},
   "outputs": [
    {
     "data": {
      "text/plain": [
       "{('браслет',\n",
       "  'xiaomi',\n",
       "  'mi',\n",
       "  'band',\n",
       "  '2.',\n",
       "  'умный',\n",
       "  'браслет',\n",
       "  'xiaomi',\n",
       "  'mi',\n",
       "  'лидер',\n",
       "  'в',\n",
       "  'линейке',\n",
       "  'xiaomi.',\n",
       "  'фитнес',\n",
       "  'браслет',\n",
       "  'для',\n",
       "  'android',\n",
       "  '4.4,',\n",
       "  'ios',\n",
       "  '7,',\n",
       "  'экран',\n",
       "  'oled.',\n",
       "  'лучший',\n",
       "  'выбор',\n",
       "  'xiaomi'): 5,\n",
       " ('браслет',\n",
       "  'huawei',\n",
       "  'honor',\n",
       "  'band',\n",
       "  '3.',\n",
       "  'фитнес',\n",
       "  'браслет',\n",
       "  'влагозащищенный',\n",
       "  'сенсорный',\n",
       "  'экран',\n",
       "  'android,',\n",
       "  'ios',\n",
       "  'мониторинг',\n",
       "  'сна'): 1,\n",
       " ('браслет',\n",
       "  'samsung',\n",
       "  'gear',\n",
       "  'fit2',\n",
       "  'pro.',\n",
       "  'влагозащищенный',\n",
       "  'сенсорный',\n",
       "  'amoled-экран',\n",
       "  'мониторинг',\n",
       "  'сна,',\n",
       "  'калорий,',\n",
       "  'новинка',\n",
       "  'samsung'): 1}"
      ]
     },
     "execution_count": 9,
     "metadata": {},
     "output_type": "execute_result"
    }
   ],
   "source": [
    "{tuple(key): len(key) - len(set(key)) for key in descriptions}"
   ]
  },
  {
   "cell_type": "code",
   "execution_count": null,
   "metadata": {},
   "outputs": [],
   "source": []
  },
  {
   "cell_type": "markdown",
   "metadata": {},
   "source": [
    "* Задача №3"
   ]
  },
  {
   "cell_type": "code",
   "execution_count": 10,
   "metadata": {},
   "outputs": [
    {
     "name": "stdout",
     "output_type": "stream",
     "text": [
      "Enter count of columns 2\n",
      "('14', '26376') ['3', '13301']\n"
     ]
    }
   ],
   "source": [
    "n = int(input('Enter count of columns '))\n",
    "\n",
    "stats_dict = {}\n",
    "\n",
    "with open('stats.csv') as f:\n",
    "    for line in f:\n",
    "        line = line.strip().split(',')\n",
    "        stats_dict[tuple(line[:n])] = line[n:]\n",
    "for key, value in stats_dict.items():\n",
    "    print(key, value)\n",
    "    break"
   ]
  },
  {
   "cell_type": "code",
   "execution_count": null,
   "metadata": {},
   "outputs": [],
   "source": []
  },
  {
   "cell_type": "code",
   "execution_count": null,
   "metadata": {},
   "outputs": [],
   "source": []
  },
  {
   "cell_type": "code",
   "execution_count": null,
   "metadata": {},
   "outputs": [],
   "source": []
  },
  {
   "cell_type": "code",
   "execution_count": null,
   "metadata": {},
   "outputs": [],
   "source": []
  },
  {
   "cell_type": "code",
   "execution_count": null,
   "metadata": {},
   "outputs": [],
   "source": []
  },
  {
   "cell_type": "code",
   "execution_count": null,
   "metadata": {},
   "outputs": [],
   "source": []
  },
  {
   "cell_type": "code",
   "execution_count": null,
   "metadata": {},
   "outputs": [],
   "source": []
  },
  {
   "cell_type": "code",
   "execution_count": null,
   "metadata": {},
   "outputs": [],
   "source": []
  },
  {
   "cell_type": "code",
   "execution_count": null,
   "metadata": {},
   "outputs": [],
   "source": []
  },
  {
   "cell_type": "code",
   "execution_count": null,
   "metadata": {},
   "outputs": [],
   "source": []
  }
 ],
 "metadata": {
  "kernelspec": {
   "display_name": "Python 3",
   "language": "python",
   "name": "python3"
  },
  "language_info": {
   "codemirror_mode": {
    "name": "ipython",
    "version": 3
   },
   "file_extension": ".py",
   "mimetype": "text/x-python",
   "name": "python",
   "nbconvert_exporter": "python",
   "pygments_lexer": "ipython3",
   "version": "3.7.3"
  }
 },
 "nbformat": 4,
 "nbformat_minor": 2
}
