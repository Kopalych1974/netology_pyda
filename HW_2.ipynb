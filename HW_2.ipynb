{
 "cells": [
  {
   "cell_type": "markdown",
   "metadata": {},
   "source": [
    "## Домашнее задание №2\n",
    "\n",
    "* Задача №1"
   ]
  },
  {
   "cell_type": "code",
   "execution_count": 3,
   "metadata": {},
   "outputs": [],
   "source": [
    "geo_logs = [\n",
    "    ['visit1', ['Москва', 'Россия']],\n",
    "    ['visit2', ['Дели', 'Индия']],\n",
    "    ['visit3', ['Владимир', 'Россия']],\n",
    "    ['visit4', ['Лиссабон', 'Португалия']],\n",
    "    ['visit5', ['Париж', 'Франция']],\n",
    "    ['visit6', ['Лиссабон', 'Португалия']],\n",
    "    ['visit7', ['Тула', 'Россия']],\n",
    "    ['visit8', ['Тула', 'Россия']],\n",
    "    ['visit9', ['Курск', 'Россия']],\n",
    "    ['visit10', ['Архангельск', 'Россия']],\n",
    "]\n",
    "n = 0\n",
    "m = 1\n",
    "new_geo = []\n",
    "for i in geo_logs:\n",
    "    if 'Россия' in geo_logs[n][m]:\n",
    "        new_geo.append(i)\n",
    "    n += 1"
   ]
  },
  {
   "cell_type": "code",
   "execution_count": 4,
   "metadata": {},
   "outputs": [
    {
     "data": {
      "text/plain": [
       "[['visit1', ['Москва', 'Россия']],\n",
       " ['visit3', ['Владимир', 'Россия']],\n",
       " ['visit7', ['Тула', 'Россия']],\n",
       " ['visit8', ['Тула', 'Россия']],\n",
       " ['visit9', ['Курск', 'Россия']],\n",
       " ['visit10', ['Архангельск', 'Россия']]]"
      ]
     },
     "execution_count": 4,
     "metadata": {},
     "output_type": "execute_result"
    }
   ],
   "source": [
    "new_geo"
   ]
  },
  {
   "cell_type": "code",
   "execution_count": null,
   "metadata": {},
   "outputs": [],
   "source": []
  },
  {
   "cell_type": "markdown",
   "metadata": {},
   "source": [
    "* Задача №2"
   ]
  },
  {
   "cell_type": "code",
   "execution_count": 7,
   "metadata": {},
   "outputs": [],
   "source": [
    "ids = [['user1', [213, 213, 213, 15, 213]], ['user2', [54, 54, 119, 119, 119]], ['user3', [213, 98, 98, 35]]]\n",
    "n = 0\n",
    "m = 1\n",
    "new_ids = []\n",
    "for j in ids:\n",
    "    for i in ids[n][1]:\n",
    "        if i not in new_ids:\n",
    "            new_ids.append(i)\n",
    "    n += 1"
   ]
  },
  {
   "cell_type": "code",
   "execution_count": 8,
   "metadata": {},
   "outputs": [
    {
     "data": {
      "text/plain": [
       "[213, 15, 54, 119, 98, 35]"
      ]
     },
     "execution_count": 8,
     "metadata": {},
     "output_type": "execute_result"
    }
   ],
   "source": [
    "new_ids"
   ]
  },
  {
   "cell_type": "code",
   "execution_count": null,
   "metadata": {},
   "outputs": [],
   "source": []
  },
  {
   "cell_type": "markdown",
   "metadata": {},
   "source": [
    "* Задача №3"
   ]
  },
  {
   "cell_type": "code",
   "execution_count": 9,
   "metadata": {},
   "outputs": [],
   "source": [
    "queries = [\n",
    "    'смотреть сериалы онлайн',\n",
    "    'новости спорта',\n",
    "    'афиша кино',\n",
    "    'курс доллара',\n",
    "    'сериалы этим летом',\n",
    "    'курс по питону',\n",
    "    'сериалы про спорт',\n",
    "]"
   ]
  },
  {
   "cell_type": "code",
   "execution_count": 10,
   "metadata": {},
   "outputs": [],
   "source": [
    "from collections import Counter"
   ]
  },
  {
   "cell_type": "code",
   "execution_count": 11,
   "metadata": {},
   "outputs": [],
   "source": [
    "index = 0\n",
    "new_list = []\n",
    "for i in queries:\n",
    "    count_items = len(queries[index].split())\n",
    "    new_list.append(count_items)\n",
    "    index += 1\n",
    "count_new = Counter(new_list)\n",
    "total = sum(count_new.values())\n",
    "percentage = {key: '{:.1%}'.format(value / total) for key, value in count_new.items()}"
   ]
  },
  {
   "cell_type": "code",
   "execution_count": 12,
   "metadata": {},
   "outputs": [
    {
     "data": {
      "text/plain": [
       "{3: '57.1%', 2: '42.9%'}"
      ]
     },
     "execution_count": 12,
     "metadata": {},
     "output_type": "execute_result"
    }
   ],
   "source": [
    "percentage"
   ]
  },
  {
   "cell_type": "code",
   "execution_count": null,
   "metadata": {},
   "outputs": [],
   "source": []
  },
  {
   "cell_type": "markdown",
   "metadata": {},
   "source": [
    " * Задача №4"
   ]
  },
  {
   "cell_type": "code",
   "execution_count": 13,
   "metadata": {},
   "outputs": [],
   "source": [
    "stream = [\n",
    "    '2018-01-01,user1,3',\n",
    "    '2018-01-07,user1,4',\n",
    "    '2018-03-29,user1,1',\n",
    "    '2018-04-04,user1,13',\n",
    "    '2018-01-05,user2,7',\n",
    "    '2018-06-14,user3,4',\n",
    "    '2018-07-02,user3,10',\n",
    "    '2018-03-21,user4,19',\n",
    "    '2018-03-22,user4,4',\n",
    "    '2018-04-22,user4,8',\n",
    "    '2018-05-03,user4,9',\n",
    "    '2018-05-11,user4,11',\n",
    "]"
   ]
  },
  {
   "cell_type": "code",
   "execution_count": 14,
   "metadata": {},
   "outputs": [],
   "source": [
    "list_users = []\n",
    "index = 0\n",
    "count_views = 0\n",
    "for i in stream:\n",
    "    views = int(stream[index].split(',')[-1])\n",
    "    count_views += views\n",
    "    if stream[index].split(',')[1] not in list_users:\n",
    "        list_users.append(stream[index].split(',')[1])\n",
    "    index += 1\n",
    "average = count_views / len(list_users)"
   ]
  },
  {
   "cell_type": "code",
   "execution_count": 15,
   "metadata": {},
   "outputs": [
    {
     "data": {
      "text/plain": [
       "23.25"
      ]
     },
     "execution_count": 15,
     "metadata": {},
     "output_type": "execute_result"
    }
   ],
   "source": [
    "average"
   ]
  },
  {
   "cell_type": "code",
   "execution_count": null,
   "metadata": {},
   "outputs": [],
   "source": []
  },
  {
   "cell_type": "code",
   "execution_count": null,
   "metadata": {},
   "outputs": [],
   "source": []
  },
  {
   "cell_type": "code",
   "execution_count": null,
   "metadata": {},
   "outputs": [],
   "source": []
  },
  {
   "cell_type": "code",
   "execution_count": null,
   "metadata": {},
   "outputs": [],
   "source": []
  },
  {
   "cell_type": "code",
   "execution_count": null,
   "metadata": {},
   "outputs": [],
   "source": []
  },
  {
   "cell_type": "code",
   "execution_count": null,
   "metadata": {},
   "outputs": [],
   "source": []
  }
 ],
 "metadata": {
  "kernelspec": {
   "display_name": "Python 3",
   "language": "python",
   "name": "python3"
  },
  "language_info": {
   "codemirror_mode": {
    "name": "ipython",
    "version": 3
   },
   "file_extension": ".py",
   "mimetype": "text/x-python",
   "name": "python",
   "nbconvert_exporter": "python",
   "pygments_lexer": "ipython3",
   "version": "3.7.3"
  }
 },
 "nbformat": 4,
 "nbformat_minor": 2
}
